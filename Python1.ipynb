{
  "nbformat": 4,
  "nbformat_minor": 0,
  "metadata": {
    "colab": {
      "name": "Python1.ipynb",
      "provenance": [],
      "collapsed_sections": [],
      "authorship_tag": "ABX9TyNxy2Rj773V3Bi0HC894qhS",
      "include_colab_link": true
    },
    "kernelspec": {
      "name": "python3",
      "display_name": "Python 3"
    },
    "language_info": {
      "name": "python"
    }
  },
  "cells": [
    {
      "cell_type": "markdown",
      "metadata": {
        "id": "view-in-github",
        "colab_type": "text"
      },
      "source": [
        "<a href=\"https://colab.research.google.com/github/mjfadaei/HM1solution/blob/main/Python1.ipynb\" target=\"_parent\"><img src=\"https://colab.research.google.com/assets/colab-badge.svg\" alt=\"Open In Colab\"/></a>"
      ]
    },
    {
      "cell_type": "markdown",
      "source": [
        "Python 1 - Exercise"
      ],
      "metadata": {
        "id": "C7BUWO9wSwp8"
      }
    },
    {
      "cell_type": "markdown",
      "source": [
        "1- maximum number of an array"
      ],
      "metadata": {
        "id": "vq3bU9fVEo7b"
      }
    },
    {
      "cell_type": "code",
      "execution_count": null,
      "metadata": {
        "id": "1gVjfUfpEKPi"
      },
      "outputs": [],
      "source": [
        "n = [23,3,45,96,11,7,36,9,27,85]\n",
        "x = maximum = n[0]\n",
        "for x in range(0,len(n)):\n",
        "    if n[x] > maximum :\n",
        "        maximum = n[x]\n",
        "print(\"maximum is : \",maximum)\n",
        "\n",
        "print(\"--------------------\")\n",
        "print(max(n))\n",
        "\n",
        "x = maximum = n[0]\n",
        "for x in n:\n",
        "    if x > maximum :\n",
        "        maximum = x\n",
        "print(\"maximum is : \",maximum)\n",
        "\n",
        "print(\"--------------------\")\n"
      ]
    },
    {
      "cell_type": "markdown",
      "source": [
        "2 - Sort an array"
      ],
      "metadata": {
        "id": "mWr6tVTLFBL2"
      }
    },
    {
      "cell_type": "code",
      "source": [
        "n = [23,3,45,96,11,7,36,9,27,85]\n",
        "for i in range(10):\n",
        "    for j in range(i+1,10):\n",
        "        if n[i] > n[j]:\n",
        "            temp = n[i]\n",
        "            n[i] = n[j]\n",
        "            n[j] = temp\n",
        "print(n)\n",
        "\n",
        "print(\"Solution2------------------\")\n",
        "m = [23,3,45,96,11,7,36,9,27,85]\n",
        "m.sort()\n",
        "print(m)\n",
        "\n",
        "print(\"Solution3------------------\")\n",
        "o=[23,3,45,96,11,7,36,9,27,85]\n",
        "for i in range(0,len(o)-1):  \n",
        "    for j in range(len(o)-1):  \n",
        "        if(o[j]>o[j+1]):  \n",
        "            temp = o[j]  \n",
        "            o[j] = o[j+1]  \n",
        "            o[j+1] = temp  \n",
        "for i in o:\n",
        "    print(i,end=\"\\t\")\n",
        "\n",
        "print(\"Solution4------------------\")\n",
        "n = [23 , 3 , 45 , 96 , 11 , 7 , 36 , 9 , 27 , 85]\n",
        "n = list (n)\n",
        "n.sort(reverse=True)\n",
        "print(n)    \n",
        "  \n"
      ],
      "metadata": {
        "id": "6eSeBXA6FASB"
      },
      "execution_count": null,
      "outputs": []
    },
    {
      "cell_type": "markdown",
      "source": [
        "3- Fibonacci String"
      ],
      "metadata": {
        "id": "qUZlh-khF1iT"
      }
    },
    {
      "cell_type": "code",
      "source": [
        "def fibonacci(f) :\n",
        "    if f == 0:\n",
        "        return 0\n",
        "    elif f == 1:\n",
        "        return 1\n",
        "    else :\n",
        "        return fibonacci(f-1) + fibonacci(f-2)\n",
        "\n",
        "k = int(input(\" چندمین جمله را می خواهید؟ \"))    \n",
        "print(fibonacci(k))\n",
        "print('Solution2-----------------')\n",
        "\n",
        "karbar = k\n",
        "i = 0\n",
        "num1 = 0\n",
        "num2 = 1\n",
        "if karbar<=0: \n",
        "        print(\"ورودی نادرست وارد کردید\") \n",
        "elif karbar==1: \n",
        "        print(\":تا جمله ی\", karbar)\n",
        "else: \n",
        "        while  i <karbar :\n",
        "                # print(num1)\n",
        "                 q = num1+num2\n",
        "                 num1=num2\n",
        "                 num2=q\n",
        "                 i +=1\n",
        "print(num1)\n"
      ],
      "metadata": {
        "colab": {
          "base_uri": "https://localhost:8080/"
        },
        "id": "0h2pfAHrF2xQ",
        "outputId": "bd9cc6a6-fb0a-4c3b-ebb5-1ae913f8539b"
      },
      "execution_count": null,
      "outputs": [
        {
          "output_type": "stream",
          "name": "stdout",
          "text": [
            " چندمین جمله را می خواهید؟ 36\n",
            "14930352\n",
            "Solution2-----------------\n",
            "14930352\n"
          ]
        }
      ]
    },
    {
      "cell_type": "markdown",
      "source": [
        "4 - Reverse a string"
      ],
      "metadata": {
        "id": "BtZO1509GgJi"
      }
    },
    {
      "cell_type": "code",
      "source": [
        "str1 = 'semnan university'\n",
        "str2 = str1[::-1]\n",
        "print(str2)\n",
        "\n",
        "print('Solution2------------------')\n",
        "Str1='Semnan University' [::-1]\n",
        "print (Str1)\n",
        "\n",
        "print('Solution3------------------')\n",
        "srtl = \"semnan university\"\n",
        "x = ''\n",
        "for i in range(len(srtl)-1,-1,-1):\n",
        "        x += srtl[i]\n",
        "print(x)  \n"
      ],
      "metadata": {
        "id": "z0QKFkX7GgXL"
      },
      "execution_count": null,
      "outputs": []
    },
    {
      "cell_type": "markdown",
      "source": [
        "5 - Greatest Common Divisor"
      ],
      "metadata": {
        "id": "vdhvB-U_G1qQ"
      }
    },
    {
      "cell_type": "code",
      "source": [
        "n = 654\n",
        "m = 744\n",
        "\n",
        "def bmm(m , n):\n",
        "    if m%n ==0 :\n",
        "        return n\n",
        "    else:\n",
        "        return bmm(n , m%n)\n",
        "print(bmm(m , n))\n",
        "print('Solution2----------------------')\n",
        "\n",
        "def gcd(m, n):\n",
        " if (m == 0):\n",
        "  return n\n",
        " if (n == 0):\n",
        "  return m\n",
        "\n",
        " if (m == n):\n",
        "  return m\n",
        "\n",
        " if (m > n):\n",
        "  return gcd(m - n, n)\n",
        " return gcd(m, n - m)\n",
        "\n",
        "m = 654\n",
        "n = 744\n",
        "if (gcd(m, n)):\n",
        " print('GCD of', m, 'and', n, 'is', gcd(m, n))\n",
        "else:\n",
        " print('not found')\n",
        "print('Solution3----------------------')\n",
        "def gcd2(m, n):\n",
        "    for i in range(1,min(m,n)+1):\n",
        "        print(i)\n",
        "        if m%i == 0 and n%i == 0:\n",
        "            temp = i\n",
        "    return temp\n",
        "m = 6\n",
        "n = 12\n",
        "print('GCD of', m, 'and', n, 'is', gcd2(m, n))\n"
      ],
      "metadata": {
        "id": "uzL4rgTRG2u8"
      },
      "execution_count": null,
      "outputs": []
    },
    {
      "cell_type": "markdown",
      "source": [
        "6 - perfect number"
      ],
      "metadata": {
        "id": "XD8CHn2FHJoc"
      }
    },
    {
      "cell_type": "code",
      "source": [
        "for i in range(2,10000):\n",
        "    c = 1\n",
        "    for j in range(2,i):\n",
        "        if i % j == 0:\n",
        "            c += j\n",
        "    if c == i:\n",
        "        print(c)\n",
        "\n",
        "print('Solution2---------------')      \n",
        "t=0\n",
        "i=2\n",
        "while(t != 4):\n",
        "    sum=0\n",
        "    for g in range(1,i):\n",
        "        if(i%g==0):\n",
        "            sum+=g\n",
        "    if(sum == i):\n",
        "        print(i)\n",
        "        t +=1 \n",
        "    i +=1"
      ],
      "metadata": {
        "id": "kTR8oVoNHKTT"
      },
      "execution_count": null,
      "outputs": []
    },
    {
      "cell_type": "markdown",
      "source": [
        "7 - Prime number"
      ],
      "metadata": {
        "id": "eFDZ273BICQZ"
      }
    },
    {
      "cell_type": "code",
      "source": [
        "n = int(input('please input your number: '))\n",
        "\n",
        "print('Solution1------------------')\n",
        "number = n\n",
        "summ = 0\n",
        "for i in range(1, number+1):\n",
        "    if number%i == 0:\n",
        "        summ+=1\n",
        "if summ==2:\n",
        "    print('Yes!')\n",
        "else:\n",
        "    print('No!')\n",
        "    \n",
        "print('Solution2------------------')\n",
        "num = n\n",
        "if num > 1:\n",
        "    for i in range(2, int(num/2)+1):\n",
        " \n",
        "        if (num % i) == 0:\n",
        "            print(\"No\")\n",
        "            break\n",
        "    else:\n",
        "        print(num, \"Yes\")\n",
        "print('Solution3------------------')       \n",
        "x = n \n",
        "if x > 1 and x != 4:\n",
        "    for i in range(2 , x//2):\n",
        "        if x % i == 0:\n",
        "            print('No')\n",
        "            break\n",
        "    else:\n",
        "        print('yes')  \n",
        "else:\n",
        "    print('No')\n"
      ],
      "metadata": {
        "id": "ZgWkewSzIC8X"
      },
      "execution_count": null,
      "outputs": []
    },
    {
      "cell_type": "markdown",
      "source": [
        "8 - Prime Numbers between 1000 and 2000"
      ],
      "metadata": {
        "id": "rjnX7F6EITC3"
      }
    },
    {
      "cell_type": "code",
      "source": [
        "for i in range(1000,2000+1):\n",
        "    flag = True\n",
        "    for counter in range(2,i):\n",
        "        if (i % counter) == 0:\n",
        "            flag = False\n",
        "            break\n",
        "    if(flag):\n",
        "        print(i)\n",
        "print(\"Solution2-------------------\")\n",
        "n = 1000\n",
        "m = 2000\n",
        "\n",
        "NumbersLessThanInput=[x for x in range(n,m )]\n",
        "PrimeNumbers = []\n",
        "\n",
        "for x in range(0, len(NumbersLessThanInput)) :\n",
        "      IsPrimeFlag = 1\n",
        "      for y in range(0, len(PrimeNumbers)) :\n",
        "            if NumbersLessThanInput[x] % PrimeNumbers[y] == 0 :\n",
        "                  IsPrimeFlag = 0\n",
        "      if IsPrimeFlag == 1:\n",
        "            PrimeNumbers += [NumbersLessThanInput[x]]\n",
        "            \n",
        "print(PrimeNumbers)\n",
        "print(NumbersLessThanInput)\n"
      ],
      "metadata": {
        "id": "vcsIokyLITyc"
      },
      "execution_count": null,
      "outputs": []
    },
    {
      "cell_type": "markdown",
      "source": [
        "9 - Stars"
      ],
      "metadata": {
        "id": "NEtW7LpFIgc9"
      }
    },
    {
      "cell_type": "code",
      "source": [
        "n = int(input(\"please enter a number : \"))\n",
        "for i in range(1,n+1):\n",
        "        print((i-1)*'_' + (n-i+1)* '*')\n",
        "print(\"Solution2---------------------\")\n",
        "x = 0\n",
        "for i in range(0, n):\n",
        "    for j in range(0, x):\n",
        "        print(end=\"-\")\n",
        "    x = x + 1\n",
        "    for j in range(n, i, -1):\n",
        "        print(\"*\", end=\"\")\n",
        "    print(\"\\r\")\n",
        "print(\"Done!\")\n",
        "print(\"Solution3-----------------------\")\n",
        "for i in range(0,n):\n",
        "    for j in range(0,n):\n",
        "        if(i>j):\n",
        "            print(\"-\",end=\"\")\n",
        "        else:\n",
        "            print(\"*\",end=\"\")\n",
        "    print(\"\\n\")\n",
        "print(\"Solution4-----------------------\")\n",
        "nn =n\n",
        "for i in range(nn):\n",
        "    print(\"-\" * i + \"*\" * nn)\n",
        "    nn -=1\n",
        "print(\"Solution5----------------------\")\n",
        "\n",
        "for x in range(n):\n",
        "    for y in range(x):\n",
        "        print(\"_\",end=\"\")\n",
        "    for y in range(n-x):\n",
        "        print(\"*\",end=\"\")  \n",
        "    print()\n"
      ],
      "metadata": {
        "id": "-KZvQDDWIg8l"
      },
      "execution_count": null,
      "outputs": []
    },
    {
      "cell_type": "markdown",
      "source": [
        "10 - Replace special character"
      ],
      "metadata": {
        "id": "M5Ovaq8uInn1"
      }
    },
    {
      "cell_type": "code",
      "source": [
        "str1 = 'semnan university'\n",
        "str2 = str1.replace('e','zs')\n",
        "print(str2)\n",
        "print(\"---------------\")\n"
      ],
      "metadata": {
        "id": "qk7adzhzIoKQ"
      },
      "execution_count": null,
      "outputs": []
    }
  ]
}